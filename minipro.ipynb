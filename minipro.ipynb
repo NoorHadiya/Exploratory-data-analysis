{
  "nbformat": 4,
  "nbformat_minor": 0,
  "metadata": {
    "colab": {
      "provenance": [],
      "authorship_tag": "ABX9TyNP+iDgjo9YprO7pI7L0FKy",
      "include_colab_link": true
    },
    "kernelspec": {
      "name": "python3",
      "display_name": "Python 3"
    },
    "language_info": {
      "name": "python"
    }
  },
  "cells": [
    {
      "cell_type": "markdown",
      "metadata": {
        "id": "view-in-github",
        "colab_type": "text"
      },
      "source": [
        "<a href=\"https://colab.research.google.com/github/NoorHadiya/Exploratory-data-analysis/blob/main/minipro.ipynb\" target=\"_parent\"><img src=\"https://colab.research.google.com/assets/colab-badge.svg\" alt=\"Open In Colab\"/></a>"
      ]
    },
    {
      "cell_type": "code",
      "source": [
        "#DATASET - \"/content/annual-enterprise-survey-2021-financial-year-provisional-csv.csv\"\n",
        "import pandas as pd\n",
        "df = pd.read_csv('/content/annual-enterprise-survey-2021-financial-year-provisional-csv.csv')\n",
        "df"
      ],
      "metadata": {
        "colab": {
          "base_uri": "https://localhost:8080/",
          "height": 730
        },
        "id": "qMimlbAaYc8X",
        "outputId": "4132d68f-3e16-4ace-e937-67a22d1c5bbf"
      },
      "execution_count": null,
      "outputs": [
        {
          "output_type": "execute_result",
          "data": {
            "text/plain": [
              "      Year Industry_aggregation_NZSIOC Industry_code_NZSIOC  \\\n",
              "0     2021                     Level 1                99999   \n",
              "1     2021                     Level 1                99999   \n",
              "2     2021                     Level 1                99999   \n",
              "3     2021                     Level 1                99999   \n",
              "4     2021                     Level 1                99999   \n",
              "...    ...                         ...                  ...   \n",
              "6595  2020                     Level 4                EE121   \n",
              "6596  2020                     Level 4                EE121   \n",
              "6597  2020                     Level 4                EE121   \n",
              "6598  2020                     Level 4                EE121   \n",
              "6599  2020                     Level 4                EE121   \n",
              "\n",
              "                          Industry_name_NZSIOC               Units  \\\n",
              "0                               All industries  Dollars (millions)   \n",
              "1                               All industries  Dollars (millions)   \n",
              "2                               All industries  Dollars (millions)   \n",
              "3                               All industries  Dollars (millions)   \n",
              "4                               All industries  Dollars (millions)   \n",
              "...                                        ...                 ...   \n",
              "6595  Heavy and Civil Engineering Construction  Dollars (millions)   \n",
              "6596  Heavy and Civil Engineering Construction  Dollars (millions)   \n",
              "6597  Heavy and Civil Engineering Construction  Dollars (millions)   \n",
              "6598  Heavy and Civil Engineering Construction  Dollars (millions)   \n",
              "6599  Heavy and Civil Engineering Construction  Dollars (millions)   \n",
              "\n",
              "     Variable_code                                    Variable_name  \\\n",
              "0              H01                                     Total income   \n",
              "1              H04  Sales, government funding, grants and subsidies   \n",
              "2              H05                Interest, dividends and donations   \n",
              "3              H07                             Non-operating income   \n",
              "4              H08                                Total expenditure   \n",
              "...            ...                                              ...   \n",
              "6595           H28                        Disposals of fixed assets   \n",
              "6596           H29                                     Other assets   \n",
              "6597           H30                     Total equity and liabilities   \n",
              "6598           H31              Shareholders funds or owners equity   \n",
              "6599           H32                              Current liabilities   \n",
              "\n",
              "          Variable_category    Value  \\\n",
              "0     Financial performance  757,504   \n",
              "1     Financial performance  674,890   \n",
              "2     Financial performance   49,593   \n",
              "3     Financial performance   33,020   \n",
              "4     Financial performance  654,404   \n",
              "...                     ...      ...   \n",
              "6595     Financial position      125   \n",
              "6596     Financial position    2,270   \n",
              "6597     Financial position    7,928   \n",
              "6598     Financial position    2,481   \n",
              "6599             Financial       NaN   \n",
              "\n",
              "                                 Industry_code_ANZSIC06  \n",
              "0     ANZSIC06 divisions A-S (excluding classes K633...  \n",
              "1     ANZSIC06 divisions A-S (excluding classes K633...  \n",
              "2     ANZSIC06 divisions A-S (excluding classes K633...  \n",
              "3     ANZSIC06 divisions A-S (excluding classes K633...  \n",
              "4     ANZSIC06 divisions A-S (excluding classes K633...  \n",
              "...                                                 ...  \n",
              "6595                                ANZSIC06 group E310  \n",
              "6596                                ANZSIC06 group E310  \n",
              "6597                                ANZSIC06 group E310  \n",
              "6598                                ANZSIC06 group E310  \n",
              "6599                                                NaN  \n",
              "\n",
              "[6600 rows x 10 columns]"
            ],
            "text/html": [
              "\n",
              "  <div id=\"df-f7972f8e-3f26-466b-b262-3cba9f679986\">\n",
              "    <div class=\"colab-df-container\">\n",
              "      <div>\n",
              "<style scoped>\n",
              "    .dataframe tbody tr th:only-of-type {\n",
              "        vertical-align: middle;\n",
              "    }\n",
              "\n",
              "    .dataframe tbody tr th {\n",
              "        vertical-align: top;\n",
              "    }\n",
              "\n",
              "    .dataframe thead th {\n",
              "        text-align: right;\n",
              "    }\n",
              "</style>\n",
              "<table border=\"1\" class=\"dataframe\">\n",
              "  <thead>\n",
              "    <tr style=\"text-align: right;\">\n",
              "      <th></th>\n",
              "      <th>Year</th>\n",
              "      <th>Industry_aggregation_NZSIOC</th>\n",
              "      <th>Industry_code_NZSIOC</th>\n",
              "      <th>Industry_name_NZSIOC</th>\n",
              "      <th>Units</th>\n",
              "      <th>Variable_code</th>\n",
              "      <th>Variable_name</th>\n",
              "      <th>Variable_category</th>\n",
              "      <th>Value</th>\n",
              "      <th>Industry_code_ANZSIC06</th>\n",
              "    </tr>\n",
              "  </thead>\n",
              "  <tbody>\n",
              "    <tr>\n",
              "      <th>0</th>\n",
              "      <td>2021</td>\n",
              "      <td>Level 1</td>\n",
              "      <td>99999</td>\n",
              "      <td>All industries</td>\n",
              "      <td>Dollars (millions)</td>\n",
              "      <td>H01</td>\n",
              "      <td>Total income</td>\n",
              "      <td>Financial performance</td>\n",
              "      <td>757,504</td>\n",
              "      <td>ANZSIC06 divisions A-S (excluding classes K633...</td>\n",
              "    </tr>\n",
              "    <tr>\n",
              "      <th>1</th>\n",
              "      <td>2021</td>\n",
              "      <td>Level 1</td>\n",
              "      <td>99999</td>\n",
              "      <td>All industries</td>\n",
              "      <td>Dollars (millions)</td>\n",
              "      <td>H04</td>\n",
              "      <td>Sales, government funding, grants and subsidies</td>\n",
              "      <td>Financial performance</td>\n",
              "      <td>674,890</td>\n",
              "      <td>ANZSIC06 divisions A-S (excluding classes K633...</td>\n",
              "    </tr>\n",
              "    <tr>\n",
              "      <th>2</th>\n",
              "      <td>2021</td>\n",
              "      <td>Level 1</td>\n",
              "      <td>99999</td>\n",
              "      <td>All industries</td>\n",
              "      <td>Dollars (millions)</td>\n",
              "      <td>H05</td>\n",
              "      <td>Interest, dividends and donations</td>\n",
              "      <td>Financial performance</td>\n",
              "      <td>49,593</td>\n",
              "      <td>ANZSIC06 divisions A-S (excluding classes K633...</td>\n",
              "    </tr>\n",
              "    <tr>\n",
              "      <th>3</th>\n",
              "      <td>2021</td>\n",
              "      <td>Level 1</td>\n",
              "      <td>99999</td>\n",
              "      <td>All industries</td>\n",
              "      <td>Dollars (millions)</td>\n",
              "      <td>H07</td>\n",
              "      <td>Non-operating income</td>\n",
              "      <td>Financial performance</td>\n",
              "      <td>33,020</td>\n",
              "      <td>ANZSIC06 divisions A-S (excluding classes K633...</td>\n",
              "    </tr>\n",
              "    <tr>\n",
              "      <th>4</th>\n",
              "      <td>2021</td>\n",
              "      <td>Level 1</td>\n",
              "      <td>99999</td>\n",
              "      <td>All industries</td>\n",
              "      <td>Dollars (millions)</td>\n",
              "      <td>H08</td>\n",
              "      <td>Total expenditure</td>\n",
              "      <td>Financial performance</td>\n",
              "      <td>654,404</td>\n",
              "      <td>ANZSIC06 divisions A-S (excluding classes K633...</td>\n",
              "    </tr>\n",
              "    <tr>\n",
              "      <th>...</th>\n",
              "      <td>...</td>\n",
              "      <td>...</td>\n",
              "      <td>...</td>\n",
              "      <td>...</td>\n",
              "      <td>...</td>\n",
              "      <td>...</td>\n",
              "      <td>...</td>\n",
              "      <td>...</td>\n",
              "      <td>...</td>\n",
              "      <td>...</td>\n",
              "    </tr>\n",
              "    <tr>\n",
              "      <th>6595</th>\n",
              "      <td>2020</td>\n",
              "      <td>Level 4</td>\n",
              "      <td>EE121</td>\n",
              "      <td>Heavy and Civil Engineering Construction</td>\n",
              "      <td>Dollars (millions)</td>\n",
              "      <td>H28</td>\n",
              "      <td>Disposals of fixed assets</td>\n",
              "      <td>Financial position</td>\n",
              "      <td>125</td>\n",
              "      <td>ANZSIC06 group E310</td>\n",
              "    </tr>\n",
              "    <tr>\n",
              "      <th>6596</th>\n",
              "      <td>2020</td>\n",
              "      <td>Level 4</td>\n",
              "      <td>EE121</td>\n",
              "      <td>Heavy and Civil Engineering Construction</td>\n",
              "      <td>Dollars (millions)</td>\n",
              "      <td>H29</td>\n",
              "      <td>Other assets</td>\n",
              "      <td>Financial position</td>\n",
              "      <td>2,270</td>\n",
              "      <td>ANZSIC06 group E310</td>\n",
              "    </tr>\n",
              "    <tr>\n",
              "      <th>6597</th>\n",
              "      <td>2020</td>\n",
              "      <td>Level 4</td>\n",
              "      <td>EE121</td>\n",
              "      <td>Heavy and Civil Engineering Construction</td>\n",
              "      <td>Dollars (millions)</td>\n",
              "      <td>H30</td>\n",
              "      <td>Total equity and liabilities</td>\n",
              "      <td>Financial position</td>\n",
              "      <td>7,928</td>\n",
              "      <td>ANZSIC06 group E310</td>\n",
              "    </tr>\n",
              "    <tr>\n",
              "      <th>6598</th>\n",
              "      <td>2020</td>\n",
              "      <td>Level 4</td>\n",
              "      <td>EE121</td>\n",
              "      <td>Heavy and Civil Engineering Construction</td>\n",
              "      <td>Dollars (millions)</td>\n",
              "      <td>H31</td>\n",
              "      <td>Shareholders funds or owners equity</td>\n",
              "      <td>Financial position</td>\n",
              "      <td>2,481</td>\n",
              "      <td>ANZSIC06 group E310</td>\n",
              "    </tr>\n",
              "    <tr>\n",
              "      <th>6599</th>\n",
              "      <td>2020</td>\n",
              "      <td>Level 4</td>\n",
              "      <td>EE121</td>\n",
              "      <td>Heavy and Civil Engineering Construction</td>\n",
              "      <td>Dollars (millions)</td>\n",
              "      <td>H32</td>\n",
              "      <td>Current liabilities</td>\n",
              "      <td>Financial</td>\n",
              "      <td>NaN</td>\n",
              "      <td>NaN</td>\n",
              "    </tr>\n",
              "  </tbody>\n",
              "</table>\n",
              "<p>6600 rows × 10 columns</p>\n",
              "</div>\n",
              "      <button class=\"colab-df-convert\" onclick=\"convertToInteractive('df-f7972f8e-3f26-466b-b262-3cba9f679986')\"\n",
              "              title=\"Convert this dataframe to an interactive table.\"\n",
              "              style=\"display:none;\">\n",
              "        \n",
              "  <svg xmlns=\"http://www.w3.org/2000/svg\" height=\"24px\"viewBox=\"0 0 24 24\"\n",
              "       width=\"24px\">\n",
              "    <path d=\"M0 0h24v24H0V0z\" fill=\"none\"/>\n",
              "    <path d=\"M18.56 5.44l.94 2.06.94-2.06 2.06-.94-2.06-.94-.94-2.06-.94 2.06-2.06.94zm-11 1L8.5 8.5l.94-2.06 2.06-.94-2.06-.94L8.5 2.5l-.94 2.06-2.06.94zm10 10l.94 2.06.94-2.06 2.06-.94-2.06-.94-.94-2.06-.94 2.06-2.06.94z\"/><path d=\"M17.41 7.96l-1.37-1.37c-.4-.4-.92-.59-1.43-.59-.52 0-1.04.2-1.43.59L10.3 9.45l-7.72 7.72c-.78.78-.78 2.05 0 2.83L4 21.41c.39.39.9.59 1.41.59.51 0 1.02-.2 1.41-.59l7.78-7.78 2.81-2.81c.8-.78.8-2.07 0-2.86zM5.41 20L4 18.59l7.72-7.72 1.47 1.35L5.41 20z\"/>\n",
              "  </svg>\n",
              "      </button>\n",
              "      \n",
              "  <style>\n",
              "    .colab-df-container {\n",
              "      display:flex;\n",
              "      flex-wrap:wrap;\n",
              "      gap: 12px;\n",
              "    }\n",
              "\n",
              "    .colab-df-convert {\n",
              "      background-color: #E8F0FE;\n",
              "      border: none;\n",
              "      border-radius: 50%;\n",
              "      cursor: pointer;\n",
              "      display: none;\n",
              "      fill: #1967D2;\n",
              "      height: 32px;\n",
              "      padding: 0 0 0 0;\n",
              "      width: 32px;\n",
              "    }\n",
              "\n",
              "    .colab-df-convert:hover {\n",
              "      background-color: #E2EBFA;\n",
              "      box-shadow: 0px 1px 2px rgba(60, 64, 67, 0.3), 0px 1px 3px 1px rgba(60, 64, 67, 0.15);\n",
              "      fill: #174EA6;\n",
              "    }\n",
              "\n",
              "    [theme=dark] .colab-df-convert {\n",
              "      background-color: #3B4455;\n",
              "      fill: #D2E3FC;\n",
              "    }\n",
              "\n",
              "    [theme=dark] .colab-df-convert:hover {\n",
              "      background-color: #434B5C;\n",
              "      box-shadow: 0px 1px 3px 1px rgba(0, 0, 0, 0.15);\n",
              "      filter: drop-shadow(0px 1px 2px rgba(0, 0, 0, 0.3));\n",
              "      fill: #FFFFFF;\n",
              "    }\n",
              "  </style>\n",
              "\n",
              "      <script>\n",
              "        const buttonEl =\n",
              "          document.querySelector('#df-f7972f8e-3f26-466b-b262-3cba9f679986 button.colab-df-convert');\n",
              "        buttonEl.style.display =\n",
              "          google.colab.kernel.accessAllowed ? 'block' : 'none';\n",
              "\n",
              "        async function convertToInteractive(key) {\n",
              "          const element = document.querySelector('#df-f7972f8e-3f26-466b-b262-3cba9f679986');\n",
              "          const dataTable =\n",
              "            await google.colab.kernel.invokeFunction('convertToInteractive',\n",
              "                                                     [key], {});\n",
              "          if (!dataTable) return;\n",
              "\n",
              "          const docLinkHtml = 'Like what you see? Visit the ' +\n",
              "            '<a target=\"_blank\" href=https://colab.research.google.com/notebooks/data_table.ipynb>data table notebook</a>'\n",
              "            + ' to learn more about interactive tables.';\n",
              "          element.innerHTML = '';\n",
              "          dataTable['output_type'] = 'display_data';\n",
              "          await google.colab.output.renderOutput(dataTable, element);\n",
              "          const docLink = document.createElement('div');\n",
              "          docLink.innerHTML = docLinkHtml;\n",
              "          element.appendChild(docLink);\n",
              "        }\n",
              "      </script>\n",
              "    </div>\n",
              "  </div>\n",
              "  "
            ]
          },
          "metadata": {},
          "execution_count": 1
        }
      ]
    },
    {
      "cell_type": "code",
      "source": [
        "df.shape"
      ],
      "metadata": {
        "colab": {
          "base_uri": "https://localhost:8080/"
        },
        "id": "s9VAD_ADc9nk",
        "outputId": "7b924aa2-b630-4d1a-e5f9-84ba0caea79b"
      },
      "execution_count": null,
      "outputs": [
        {
          "output_type": "execute_result",
          "data": {
            "text/plain": [
              "(6600, 10)"
            ]
          },
          "metadata": {},
          "execution_count": 2
        }
      ]
    },
    {
      "cell_type": "code",
      "source": [
        "df.size"
      ],
      "metadata": {
        "colab": {
          "base_uri": "https://localhost:8080/"
        },
        "id": "E9pWh-E3dFrB",
        "outputId": "6c395551-b6f6-4987-929c-e46b22d5d31d"
      },
      "execution_count": null,
      "outputs": [
        {
          "output_type": "execute_result",
          "data": {
            "text/plain": [
              "66000"
            ]
          },
          "metadata": {},
          "execution_count": 3
        }
      ]
    },
    {
      "cell_type": "code",
      "source": [
        "df.info()"
      ],
      "metadata": {
        "id": "JlVRQpetdNR0",
        "outputId": "4c939c44-5ccd-4ca2-b04c-60da53eb6ce8",
        "colab": {
          "base_uri": "https://localhost:8080/"
        }
      },
      "execution_count": null,
      "outputs": [
        {
          "output_type": "stream",
          "name": "stdout",
          "text": [
            "<class 'pandas.core.frame.DataFrame'>\n",
            "RangeIndex: 6600 entries, 0 to 6599\n",
            "Data columns (total 10 columns):\n",
            " #   Column                       Non-Null Count  Dtype \n",
            "---  ------                       --------------  ----- \n",
            " 0   Year                         6600 non-null   int64 \n",
            " 1   Industry_aggregation_NZSIOC  6600 non-null   object\n",
            " 2   Industry_code_NZSIOC         6600 non-null   object\n",
            " 3   Industry_name_NZSIOC         6600 non-null   object\n",
            " 4   Units                        6600 non-null   object\n",
            " 5   Variable_code                6600 non-null   object\n",
            " 6   Variable_name                6600 non-null   object\n",
            " 7   Variable_category            6600 non-null   object\n",
            " 8   Value                        6599 non-null   object\n",
            " 9   Industry_code_ANZSIC06       6599 non-null   object\n",
            "dtypes: int64(1), object(9)\n",
            "memory usage: 515.8+ KB\n"
          ]
        }
      ]
    },
    {
      "cell_type": "code",
      "source": [
        "df.isnull().sum()"
      ],
      "metadata": {
        "id": "APH1zAcgdRAF",
        "colab": {
          "base_uri": "https://localhost:8080/"
        },
        "outputId": "ca656b5b-402f-4fed-c00e-503d0a6fbd2b"
      },
      "execution_count": null,
      "outputs": [
        {
          "output_type": "execute_result",
          "data": {
            "text/plain": [
              "Year                           0\n",
              "Industry_aggregation_NZSIOC    0\n",
              "Industry_code_NZSIOC           0\n",
              "Industry_name_NZSIOC           0\n",
              "Units                          0\n",
              "Variable_code                  0\n",
              "Variable_name                  0\n",
              "Variable_category              0\n",
              "Value                          1\n",
              "Industry_code_ANZSIC06         1\n",
              "dtype: int64"
            ]
          },
          "metadata": {},
          "execution_count": 5
        }
      ]
    },
    {
      "cell_type": "code",
      "source": [
        "df.nunique()"
      ],
      "metadata": {
        "colab": {
          "base_uri": "https://localhost:8080/"
        },
        "id": "yuzoPbZgrjsZ",
        "outputId": "50981942-2775-4e1e-854f-ad9abd05c41f"
      },
      "execution_count": null,
      "outputs": [
        {
          "output_type": "execute_result",
          "data": {
            "text/plain": [
              "Year                              2\n",
              "Industry_aggregation_NZSIOC       3\n",
              "Industry_code_NZSIOC            139\n",
              "Industry_name_NZSIOC            117\n",
              "Units                             3\n",
              "Variable_code                    39\n",
              "Variable_name                    40\n",
              "Variable_category                 4\n",
              "Value                          2675\n",
              "Industry_code_ANZSIC06          119\n",
              "dtype: int64"
            ]
          },
          "metadata": {},
          "execution_count": 7
        }
      ]
    },
    {
      "cell_type": "code",
      "source": [
        "import numpy as np\n",
        "year = np.sum((df['Year']=='2021')&df['Industry_aggregation_NZSIOC']=='Level 1')\n",
        "year"
      ],
      "metadata": {
        "colab": {
          "base_uri": "https://localhost:8080/"
        },
        "id": "nOEmlFSGrodf",
        "outputId": "b4fa6e06-d986-4cd1-b66e-f9d1c31f8563"
      },
      "execution_count": null,
      "outputs": [
        {
          "output_type": "execute_result",
          "data": {
            "text/plain": [
              "0"
            ]
          },
          "metadata": {},
          "execution_count": 10
        }
      ]
    },
    {
      "cell_type": "code",
      "source": [
        "df.groupby(['Year', 'Industry_aggregation_NZSIOC']).size()"
      ],
      "metadata": {
        "colab": {
          "base_uri": "https://localhost:8080/"
        },
        "id": "sOi6vRvmr8vd",
        "outputId": "94ed2eea-1872-4062-a8df-7da34eaed27e"
      },
      "execution_count": null,
      "outputs": [
        {
          "output_type": "execute_result",
          "data": {
            "text/plain": [
              "Year  Industry_aggregation_NZSIOC\n",
              "2020  Level 1                         197\n",
              "      Level 3                         848\n",
              "      Level 4                         920\n",
              "2021  Level 1                         559\n",
              "      Level 3                        1539\n",
              "      Level 4                        2537\n",
              "dtype: int64"
            ]
          },
          "metadata": {},
          "execution_count": 12
        }
      ]
    },
    {
      "cell_type": "code",
      "source": [
        "import seaborn as sns\n",
        "sns.countplot(x = 'Year', data = df)"
      ],
      "metadata": {
        "colab": {
          "base_uri": "https://localhost:8080/",
          "height": 298
        },
        "id": "KI0KXL-UxqnB",
        "outputId": "359c74bb-1d9d-4e23-94d8-76800e64857d"
      },
      "execution_count": null,
      "outputs": [
        {
          "output_type": "execute_result",
          "data": {
            "text/plain": [
              "<AxesSubplot:xlabel='Year', ylabel='count'>"
            ]
          },
          "metadata": {},
          "execution_count": 13
        },
        {
          "output_type": "display_data",
          "data": {
            "text/plain": [
              "<Figure size 432x288 with 1 Axes>"
            ],
            "image/png": "[encoded data removed]"
          },
          "metadata": {
            "needs_background": "light"
          }
        }
      ]
    },
    {
      "cell_type": "code",
      "source": [],
      "metadata": {
        "id": "KAsbsPBIyOHH"
      },
      "execution_count": null,
      "outputs": []
    }
  ]
}